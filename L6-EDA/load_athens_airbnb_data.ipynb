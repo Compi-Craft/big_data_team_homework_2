{
 "cells": [
  {
   "cell_type": "markdown",
   "metadata": {
    "application/vnd.databricks.v1+cell": {
     "cellMetadata": {
      "byteLimit": 2048000,
      "rowLimit": 10000
     },
     "inputWidgets": {},
     "nuid": "369daf37-eb6c-4d22-ab6b-adc1ff608bcb",
     "showTitle": false,
     "tableResultSettingsMap": {},
     "title": ""
    }
   },
   "source": [
    "\n",
    "# Load data\n",
    "\n",
    "**source**:  Airbnb data for Athens at http://insideairbnb.com/get-the-data\n",
    "\n",
    "**destination**: airbnb.raw schema "
   ]
  },
  {
   "cell_type": "code",
   "execution_count": 0,
   "metadata": {
    "application/vnd.databricks.v1+cell": {
     "cellMetadata": {
      "byteLimit": 2048000,
      "rowLimit": 10000
     },
     "inputWidgets": {},
     "nuid": "c37e58b8-9a27-447c-bd7c-8a2e934f03cc",
     "showTitle": false,
     "tableResultSettingsMap": {},
     "title": ""
    }
   },
   "outputs": [],
   "source": [
    "%run ./setup"
   ]
  },
  {
   "cell_type": "code",
   "execution_count": 0,
   "metadata": {
    "application/vnd.databricks.v1+cell": {
     "cellMetadata": {
      "byteLimit": 2048000,
      "rowLimit": 10000
     },
     "inputWidgets": {},
     "nuid": "a9b3188e-cfb1-4905-93ec-374d8db8b1c0",
     "showTitle": false,
     "tableResultSettingsMap": {},
     "title": ""
    }
   },
   "outputs": [],
   "source": [
    "import io\n",
    "import pandas as pd\n",
    "import requests\n",
    "\n",
    "def load_data_from_url_as_spark_df(url, **params):\n",
    "    \"\"\"Loads data from url. Optional keyword arguments are passed to pandas.read_csv.\"\"\"\n",
    "    response = requests.get(url)\n",
    "    dx = pd.read_csv(io.BytesIO(response.content), **params)  \n",
    "    return spark.createDataFrame(dx)"
   ]
  },
  {
   "cell_type": "code",
   "execution_count": 0,
   "metadata": {
    "application/vnd.databricks.v1+cell": {
     "cellMetadata": {
      "byteLimit": 2048000,
      "rowLimit": 10000
     },
     "inputWidgets": {},
     "nuid": "9bd89158-e619-41a4-82e0-52a0e25c99e3",
     "showTitle": false,
     "tableResultSettingsMap": {},
     "title": ""
    }
   },
   "outputs": [],
   "source": [
    "import json \n",
    "import pyspark.sql.functions as f\n",
    "from pyspark.sql.types import StringType, TimestampType\n",
    "from delta.tables import DeltaTable\n",
    "\n",
    "def update_schema_with_metadata_fields(schema):\n",
    "    \"\"\"Helper method to add metadata fields to contact schema.\"\"\"\n",
    "    return schema\\\n",
    "            .add(\"processing_datetime\", TimestampType(), True)\\\n",
    "            .add(\"area\", StringType(), True)\n",
    "        \n",
    "def add_metadata_columns(df, area: str):\n",
    "    \"\"\"Helper method to add metadata columns to dataframe.\"\"\"\n",
    "    return (\n",
    "        df.withColumn(\"processing_datetime\", f.current_timestamp())\n",
    "        .withColumn(\"area\", f.lit(area))\n",
    "    )"
   ]
  },
  {
   "cell_type": "markdown",
   "metadata": {
    "application/vnd.databricks.v1+cell": {
     "cellMetadata": {
      "byteLimit": 2048000,
      "rowLimit": 10000
     },
     "inputWidgets": {},
     "nuid": "cbc971df-1a0c-4ca7-b0f4-3601ae9f9e10",
     "showTitle": false,
     "tableResultSettingsMap": {},
     "title": ""
    }
   },
   "source": [
    "\n",
    "## Load Listings"
   ]
  },
  {
   "cell_type": "code",
   "execution_count": 0,
   "metadata": {
    "application/vnd.databricks.v1+cell": {
     "cellMetadata": {
      "byteLimit": 2048000,
      "rowLimit": 10000
     },
     "inputWidgets": {},
     "nuid": "f4a4ccdc-d1b4-4d37-8434-e6e78a5fd0e8",
     "showTitle": false,
     "tableResultSettingsMap": {},
     "title": ""
    }
   },
   "outputs": [],
   "source": [
    "# load contract schema \n",
    "with open(contracts_path + \"/listing_schema.json\", \"r\") as fin:\n",
    "    listing_schema = StructType.fromJson(json.loads(fin.read()))\n",
    "\n",
    "# update contract schema with metadata fields\n",
    "raw_listing_schema = update_schema_with_metadata_fields(listing_schema)\n",
    "\n",
    "# initialize delta table\n",
    "listing_delta = (\n",
    "    DeltaTable.createIfNotExists(spark)\n",
    "    .addColumns(raw_listing_schema)\n",
    "    .tableName('airbnb.raw.listings')\n",
    ").execute()"
   ]
  },
  {
   "cell_type": "code",
   "execution_count": 0,
   "metadata": {
    "application/vnd.databricks.v1+cell": {
     "cellMetadata": {
      "byteLimit": 2048000,
      "rowLimit": 10000
     },
     "inputWidgets": {},
     "nuid": "79556e8c-cb8f-44d3-b335-d35d568eb956",
     "showTitle": false,
     "tableResultSettingsMap": {},
     "title": ""
    }
   },
   "outputs": [],
   "source": [
    "listings_url = \"http://data.insideairbnb.com/greece/attica/athens/2023-09-21/data/listings.csv.gz\"\n",
    "\n",
    "listings_df = load_data_from_url_as_spark_df(\n",
    "    listings_url, sep=',', index_col=0, quotechar='\"', compression='gzip'\n",
    ")"
   ]
  },
  {
   "cell_type": "code",
   "execution_count": 0,
   "metadata": {
    "application/vnd.databricks.v1+cell": {
     "cellMetadata": {
      "byteLimit": 2048000,
      "rowLimit": 10000
     },
     "inputWidgets": {},
     "nuid": "9ef2052a-8b1e-4e38-80db-1579293142c0",
     "showTitle": false,
     "tableResultSettingsMap": {},
     "title": ""
    }
   },
   "outputs": [],
   "source": [
    "_ = (listings_df\n",
    "     .transform(lambda x: add_metadata_columns(x, \"Athens\"))\n",
    "     .writeTo(\"airbnb.raw.listings\")\n",
    "     .append())"
   ]
  },
  {
   "cell_type": "markdown",
   "metadata": {
    "application/vnd.databricks.v1+cell": {
     "cellMetadata": {
      "byteLimit": 2048000,
      "rowLimit": 10000
     },
     "inputWidgets": {},
     "nuid": "4d63699f-9ea2-4d79-991d-24ed9558b582",
     "showTitle": false,
     "tableResultSettingsMap": {},
     "title": ""
    }
   },
   "source": [
    "\n",
    "## Load calendar data "
   ]
  },
  {
   "cell_type": "code",
   "execution_count": 0,
   "metadata": {
    "application/vnd.databricks.v1+cell": {
     "cellMetadata": {
      "byteLimit": 2048000,
      "rowLimit": 10000
     },
     "inputWidgets": {},
     "nuid": "946c39e8-3e79-4925-b371-1f458ecf48d3",
     "showTitle": false,
     "tableResultSettingsMap": {},
     "title": ""
    }
   },
   "outputs": [],
   "source": [
    "# load contract schema \n",
    "with open(contracts_path + \"/calendar_schema.json\", \"r\") as fin:\n",
    "    calendar_schema = StructType.fromJson(json.loads(fin.read()))\n",
    "\n",
    "# update contract schema with metadata fields\n",
    "raw_calendar_schema = update_schema_with_metadata_fields(calendar_schema)\n",
    "\n",
    "# initialize delta table\n",
    "calendar_delta = (\n",
    "    DeltaTable.createIfNotExists(spark)\n",
    "    .addColumns(raw_calendar_schema)\n",
    "    .tableName('airbnb.raw.calendar')\n",
    ").execute()"
   ]
  },
  {
   "cell_type": "code",
   "execution_count": 0,
   "metadata": {
    "application/vnd.databricks.v1+cell": {
     "cellMetadata": {
      "byteLimit": 2048000,
      "rowLimit": 10000
     },
     "inputWidgets": {},
     "nuid": "f0ca93d9-227f-460f-baae-e79fccfeec28",
     "showTitle": false,
     "tableResultSettingsMap": {},
     "title": ""
    }
   },
   "outputs": [],
   "source": [
    "callendar_url = \"http://data.insideairbnb.com/greece/attica/athens/2023-09-21/data/calendar.csv.gz\"\n",
    "\n",
    "callendar_df = load_data_from_url_as_spark_df(\n",
    "    callendar_url, sep=',', index_col=0, quotechar='\"', compression='gzip'\n",
    ")"
   ]
  },
  {
   "cell_type": "code",
   "execution_count": 0,
   "metadata": {
    "application/vnd.databricks.v1+cell": {
     "cellMetadata": {
      "byteLimit": 2048000,
      "rowLimit": 10000
     },
     "inputWidgets": {},
     "nuid": "88377aa1-3058-4427-b71b-1b31c39373e0",
     "showTitle": false,
     "tableResultSettingsMap": {},
     "title": ""
    }
   },
   "outputs": [],
   "source": [
    "_ = (callendar_df\n",
    "     .transform(lambda x: add_metadata_columns(x, \"Athens\"))\n",
    "     .writeTo(\"airbnb.raw.calendar\")\n",
    "     .append())"
   ]
  },
  {
   "cell_type": "markdown",
   "metadata": {
    "application/vnd.databricks.v1+cell": {
     "cellMetadata": {
      "byteLimit": 2048000,
      "rowLimit": 10000
     },
     "inputWidgets": {},
     "nuid": "93d4f99c-9420-45e3-a947-9dadca7f0d45",
     "showTitle": false,
     "tableResultSettingsMap": {},
     "title": ""
    }
   },
   "source": [
    "\n",
    "## Load agg_listings"
   ]
  },
  {
   "cell_type": "code",
   "execution_count": 0,
   "metadata": {
    "application/vnd.databricks.v1+cell": {
     "cellMetadata": {
      "byteLimit": 2048000,
      "rowLimit": 10000
     },
     "inputWidgets": {},
     "nuid": "a89b78e3-7b62-4cff-b3ac-c04d0f41306f",
     "showTitle": false,
     "tableResultSettingsMap": {},
     "title": ""
    }
   },
   "outputs": [],
   "source": [
    "# load contract schema \n",
    "with open(contracts_path + \"/agg_listing_schema.json\", \"r\") as fin:\n",
    "    agg_listing_schema = StructType.fromJson(json.loads(fin.read()))\n",
    "\n",
    "# update contract schema with metadata fields\n",
    "raw_agg_listing_schema = update_schema_with_metadata_fields(agg_listing_schema)\n",
    "\n",
    "# initialize delta table\n",
    "calendar_delta = (\n",
    "    DeltaTable.createIfNotExists(spark)\n",
    "    .addColumns(raw_agg_listing_schema)\n",
    "    .tableName('airbnb.raw.agg_listing')\n",
    ").execute()"
   ]
  },
  {
   "cell_type": "code",
   "execution_count": 0,
   "metadata": {
    "application/vnd.databricks.v1+cell": {
     "cellMetadata": {
      "byteLimit": 2048000,
      "rowLimit": 10000
     },
     "inputWidgets": {},
     "nuid": "ce51a3e8-9112-4a66-a32a-1f78b5365fee",
     "showTitle": false,
     "tableResultSettingsMap": {},
     "title": ""
    }
   },
   "outputs": [],
   "source": [
    "agg_listing_url = \"http://data.insideairbnb.com/greece/attica/athens/2023-09-21/visualisations/listings.csv\"\n",
    "\n",
    "agg_listing_df = load_data_from_url_as_spark_df(\n",
    "    agg_listing_url, sep=',', index_col=0, quotechar='\"'\n",
    ")\n"
   ]
  },
  {
   "cell_type": "code",
   "execution_count": 0,
   "metadata": {
    "application/vnd.databricks.v1+cell": {
     "cellMetadata": {
      "byteLimit": 2048000,
      "rowLimit": 10000
     },
     "inputWidgets": {},
     "nuid": "a08959e8-a309-4127-8a19-db7220f3369b",
     "showTitle": false,
     "tableResultSettingsMap": {},
     "title": ""
    }
   },
   "outputs": [],
   "source": [
    "_ = (agg_listing_df\n",
    "     .transform(lambda x: add_metadata_columns(x, \"Athens\"))\n",
    "     .writeTo(\"airbnb.raw.agg_listing\")\n",
    "     .append())"
   ]
  },
  {
   "cell_type": "markdown",
   "metadata": {
    "application/vnd.databricks.v1+cell": {
     "cellMetadata": {
      "byteLimit": 2048000,
      "rowLimit": 10000
     },
     "inputWidgets": {},
     "nuid": "30583cb1-454b-464f-ab22-122dc2e959ca",
     "showTitle": false,
     "tableResultSettingsMap": {},
     "title": ""
    }
   },
   "source": [
    "\n",
    "## Load geo json data \n",
    "\n",
    "In orde to load geo data we can use pandas-geojson package. \n",
    "But w need to install it first. Plase ```%pip install pandas-geojson ```in the first cell in notebook and rerul entire notebook. \n",
    "\n",
    "```\n",
    "  import json\n",
    "  from pandas_geojson import read_geojson_url\n",
    "\n",
    "  neighbourhoods_geo_url = \"http://data.insideairbnb.com/greece/attica/athens/2023-09-21/visualisations/neighbourhoods.geojson\"\n",
    "\n",
    "  # load geo data & save as json file.\n",
    "  geo_json = read_geojson_url(neighbourhoods_geo_url)\n",
    "  dbutils.fs.put(neighbourhoods_geo_path, json.dumps(geo_json))\n",
    "\n",
    "  # load neighbourhoods_geo as spark data frame \n",
    "  neighbourhoods_geo_df = spark.read.format('json').load(neighbourhoods_geo_path)\n",
    "```"
   ]
  }
 ],
 "metadata": {
  "application/vnd.databricks.v1+notebook": {
   "computePreferences": null,
   "dashboards": [],
   "environmentMetadata": null,
   "inputWidgetPreferences": null,
   "language": "python",
   "notebookMetadata": {
    "mostRecentlyExecutedCommandWithImplicitDF": {
     "commandId": 7359751528971254,
     "dataframes": [
      "_sqldf"
     ]
    },
    "pythonIndentUnit": 4
   },
   "notebookName": "load_athens_airbnb_data",
   "widgets": {}
  },
  "language_info": {
   "name": "python"
  }
 },
 "nbformat": 4,
 "nbformat_minor": 0
}