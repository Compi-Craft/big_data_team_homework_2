{
 "cells": [
  {
   "cell_type": "code",
   "execution_count": 0,
   "metadata": {
    "application/vnd.databricks.v1+cell": {
     "cellMetadata": {
      "byteLimit": 2048000,
      "rowLimit": 10000
     },
     "inputWidgets": {},
     "nuid": "603f472c-2049-477d-9a1b-5df96fa20c23",
     "showTitle": false,
     "tableResultSettingsMap": {},
     "title": ""
    }
   },
   "outputs": [],
   "source": [
    "\n",
    "\n",
    "import pandas as pd\n",
    "import seaborn as sns\n",
    "import matplotlib.pyplot as plt\n",
    "from pyspark.sql import DataFrame\n",
    "from pyspark.sql.functions import col, when, count\n",
    "\n",
    "\n",
    "TABLE_NAME = \"airbnb.raw.listings\" \n",
    "try:\n",
    "    spark_df = spark.read.table(TABLE_NAME)\n",
    "except Exception as e:\n",
    "    print(f\"Помилка завантаження таблиці '{TABLE_NAME}'.\")\n",
    "    print(e)\n",
    "    raise(e)\n",
    "\n",
    "\n",
    "\n",
    "def collect_missing_stats(spark_df: DataFrame):\n",
    "    \"\"\"\n",
    "    Збирає статистику про пропущені значення у Spark DataFrame,\n",
    "    коректно обробляючи різні типи даних.\n",
    "    \"\"\"\n",
    "    total_rows = spark_df.count()\n",
    "    if total_rows == 0:\n",
    "        return pd.DataFrame(columns=['column', 'missing_count', 'missing_percentage']), pd.DataFrame()\n",
    "\n",
    "    missing_count_exprs = []\n",
    "    nullity_matrix_exprs = []\n",
    "    \n",
    "\n",
    "    for col_name, col_type in spark_df.dtypes:\n",
    "        \n",
    "\n",
    "        if col_type == 'string':\n",
    "\n",
    "            missing_condition = col(col_name).isNull() | (col(col_name) == '')\n",
    "        else:\n",
    "\n",
    "            missing_condition = col(col_name).isNull()\n",
    "        \n",
    "\n",
    "\n",
    "        missing_count_exprs.append(\n",
    "            count(when(missing_condition, 1)).alias(col_name)\n",
    "        )\n",
    "        \n",
    "\n",
    "        nullity_matrix_exprs.append(\n",
    "            when(missing_condition, 1).otherwise(0).alias(col_name)\n",
    "        )\n",
    "\n",
    "\n",
    "    missing_counts_dict = spark_df.select(missing_count_exprs).first().asDict()\n",
    "    \n",
    "    stats_df = pd.DataFrame(\n",
    "        missing_counts_dict.items(),\n",
    "        columns=['column', 'missing_count']\n",
    "    )\n",
    "    stats_df['missing_percentage'] = (stats_df['missing_count'] / total_rows) * 100\n",
    "    stats_df = stats_df.sort_values(by='missing_count', ascending=False)\n",
    "    \n",
    "    nullity_matrix_pd = spark_df.select(nullity_matrix_exprs).toPandas()\n",
    "\n",
    "    return stats_df, nullity_matrix_pd\n",
    "\n",
    "\n",
    "\n",
    "columns_to_analyze = [\n",
    "    'host_is_superhost',\n",
    "    'review_scores_rating',\n",
    "    'review_scores_accuracy',\n",
    "    'review_scores_cleanliness',\n",
    "    'review_scores_checkin',\n",
    "    'review_scores_communication',\n",
    "    'review_scores_location',\n",
    "    'review_scores_value',\n",
    "    'reviews_per_month',\n",
    "    'bathrooms',\n",
    "    'bedrooms',\n",
    "    'beds'\n",
    "]\n",
    "\n",
    "existing_columns = [c for c in columns_to_analyze if c in spark_df.columns]\n",
    "if not existing_columns:\n",
    "    print(f\"Жоден із цільових стовпців {columns_to_analyze} не знайдено в таблиці. Перевірте назви стовпців.\")\n",
    "else:\n",
    "    df_subset = spark_df.select(existing_columns)\n",
    "\n",
    "    print(\"Збираємо статистику... Це може зайняти хвилину.\")\n",
    "    stats_df, nullity_matrix_pd = collect_missing_stats(df_subset)\n",
    "\n",
    "    print(\"Статистика готова. Можна переходити до візуалізації.\")\n",
    "    display(stats_df)"
   ]
  },
  {
   "cell_type": "code",
   "execution_count": 0,
   "metadata": {
    "application/vnd.databricks.v1+cell": {
     "cellMetadata": {
      "byteLimit": 2048000,
      "rowLimit": 10000
     },
     "inputWidgets": {},
     "nuid": "9da7d430-e185-4197-a1b9-dbe1e9dce552",
     "showTitle": false,
     "tableResultSettingsMap": {},
     "title": ""
    }
   },
   "outputs": [],
   "source": [
    "\n",
    "\n",
    "def plot_missing_count_bar(stats_df: pd.DataFrame):\n",
    "    \"\"\"Будує гістограму кількості пропущених значень.\"\"\"\n",
    "    data_to_plot = stats_df[stats_df['missing_count'] > 0]\n",
    "    \n",
    "    if data_to_plot.empty:\n",
    "        print(\"Чудові новини! У вибраних стовпцях немає пропущених значень.\")\n",
    "        return\n",
    "\n",
    "    plt.figure(figsize=(12, 8))\n",
    "    sns.barplot(\n",
    "        x='missing_percentage', \n",
    "        y='column', \n",
    "        data=data_to_plot,\n",
    "        palette='viridis_r'\n",
    "    )\n",
    "    plt.title('Відсоток пропущених значень у стовпцях', fontsize=16)\n",
    "    plt.xlabel('Відсоток пропущених значень (%)', fontsize=12)\n",
    "    plt.ylabel('Стовпці', fontsize=12)\n",
    "    plt.grid(axis='x', linestyle='--', alpha=0.7)\n",
    "    display(plt.gcf()) \n",
    "    plt.close()\n",
    "\n",
    "# Малюємо графік\n",
    "plot_missing_count_bar(stats_df)"
   ]
  },
  {
   "cell_type": "code",
   "execution_count": 0,
   "metadata": {
    "application/vnd.databricks.v1+cell": {
     "cellMetadata": {
      "byteLimit": 2048000,
      "rowLimit": 10000
     },
     "inputWidgets": {},
     "nuid": "4b55f1a3-2b3c-4e3a-bc44-b8608c594357",
     "showTitle": false,
     "tableResultSettingsMap": {},
     "title": ""
    }
   },
   "outputs": [],
   "source": [
    "\n",
    "\n",
    "def plot_missing_matrix(nullity_matrix_pd: pd.DataFrame):\n",
    "    \"\"\"Будує матрицю пропущених значень.\"\"\"\n",
    "    cols_with_missing = nullity_matrix_pd.columns[nullity_matrix_pd.sum() > 0]\n",
    "    \n",
    "    if cols_with_missing.empty:\n",
    "        print(\"Немає стовпців з пропусками для побудови матриці.\")\n",
    "        return\n",
    "\n",
    "    plt.figure(figsize=(15, 10))\n",
    "    sns.heatmap(\n",
    "        nullity_matrix_pd[cols_with_missing], \n",
    "        cmap=['#3498db', '#f1c40f'], # Синій - дані є, Жовтий - пропуск\n",
    "        cbar=False\n",
    "    )\n",
    "    plt.title('Матриця пропущених значень (Жовтий = Пропуск)', fontsize=16)\n",
    "    plt.xlabel('Стовпці', fontsize=12)\n",
    "    plt.ylabel(f'Рядки (Всього: {len(nullity_matrix_pd)})', fontsize=12)\n",
    "    plt.yticks([]) \n",
    "    plt.tight_layout()\n",
    "    display(plt.gcf())\n",
    "    plt.close()\n",
    "\n",
    "# Малюємо графік\n",
    "plot_missing_matrix(nullity_matrix_pd)"
   ]
  },
  {
   "cell_type": "code",
   "execution_count": 0,
   "metadata": {
    "application/vnd.databricks.v1+cell": {
     "cellMetadata": {
      "byteLimit": 2048000,
      "rowLimit": 10000
     },
     "inputWidgets": {},
     "nuid": "ec561292-de0c-45b9-aea2-e7089d81c8af",
     "showTitle": false,
     "tableResultSettingsMap": {},
     "title": ""
    }
   },
   "outputs": [],
   "source": [
    "\n",
    "\n",
    "def plot_nullity_correlation_heatmap(nullity_matrix_pd: pd.DataFrame):\n",
    "    \"\"\"Будує теплову карту кореляції пропусків.\"\"\"\n",
    "    cols_with_missing = nullity_matrix_pd.columns[nullity_matrix_pd.sum() > 0]\n",
    "    \n",
    "    if len(cols_with_missing) < 2:\n",
    "        print(\"Недостатньо стовпців з пропусками для побудови кореляційної матриці.\")\n",
    "        return\n",
    "\n",
    "    correlation_matrix = nullity_matrix_pd[cols_with_missing].corr()\n",
    "    \n",
    "    plt.figure(figsize=(12, 10))\n",
    "    sns.heatmap(\n",
    "        correlation_matrix, \n",
    "        annot=True, \n",
    "        cmap='coolwarm',\n",
    "        vmin=-1, vmax=1,\n",
    "        fmt='.2f'\n",
    "    )\n",
    "    plt.title('Теплова карта кореляції пропущених значень', fontsize=16)\n",
    "    plt.tight_layout()\n",
    "    display(plt.gcf())\n",
    "    plt.close()\n",
    "\n",
    "# Малюємо графік\n",
    "plot_nullity_correlation_heatmap(nullity_matrix_pd)"
   ]
  },
  {
   "cell_type": "code",
   "execution_count": 0,
   "metadata": {
    "application/vnd.databricks.v1+cell": {
     "cellMetadata": {},
     "inputWidgets": {},
     "nuid": "750b4357-583b-4716-8365-16849b247461",
     "showTitle": false,
     "tableResultSettingsMap": {},
     "title": ""
    }
   },
   "outputs": [],
   "source": []
  }
 ],
 "metadata": {
  "application/vnd.databricks.v1+notebook": {
   "computePreferences": null,
   "dashboards": [],
   "environmentMetadata": {
    "base_environment": "",
    "environment_version": "4"
   },
   "inputWidgetPreferences": null,
   "language": "python",
   "notebookMetadata": {
    "pythonIndentUnit": 4
   },
   "notebookName": "Missing_Values_Visualization_Challenge",
   "widgets": {}
  },
  "language_info": {
   "name": "python"
  }
 },
 "nbformat": 4,
 "nbformat_minor": 0
}
